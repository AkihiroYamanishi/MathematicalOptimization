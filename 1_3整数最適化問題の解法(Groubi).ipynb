{
  "nbformat": 4,
  "nbformat_minor": 0,
  "metadata": {
    "colab": {
      "provenance": [],
      "authorship_tag": "ABX9TyOkvxS18QRqkPFlO+3GQFsg",
      "include_colab_link": true
    },
    "kernelspec": {
      "name": "python3",
      "display_name": "Python 3"
    },
    "language_info": {
      "name": "python"
    }
  },
  "cells": [
    {
      "cell_type": "markdown",
      "metadata": {
        "id": "view-in-github",
        "colab_type": "text"
      },
      "source": [
        "<a href=\"https://colab.research.google.com/github/AkihiroYamanishi/MathematicalOptimization/blob/main/1_3%E6%95%B4%E6%95%B0%E6%9C%80%E9%81%A9%E5%8C%96%E5%95%8F%E9%A1%8C%E3%81%AE%E8%A7%A3%E6%B3%95(Groubi).ipynb\" target=\"_parent\"><img src=\"https://colab.research.google.com/assets/colab-badge.svg\" alt=\"Open In Colab\"/></a>"
      ]
    },
    {
      "cell_type": "code",
      "execution_count": 1,
      "metadata": {
        "colab": {
          "base_uri": "https://localhost:8080/"
        },
        "id": "3r2C8CPtG3gj",
        "outputId": "d54331be-809c-4b73-ea30-27bc80f84258"
      },
      "outputs": [
        {
          "output_type": "stream",
          "name": "stdout",
          "text": [
            "Looking in indexes: https://pypi.org/simple, https://us-python.pkg.dev/colab-wheels/public/simple/\n",
            "Collecting gurobipy-stubs\n",
            "  Downloading gurobipy_stubs-2.0.0-py3-none-any.whl (14 kB)\n",
            "Collecting gurobipy==10.*\n",
            "  Downloading gurobipy-10.0.1-cp38-cp38-manylinux2014_x86_64.whl (12.8 MB)\n",
            "\u001b[2K     \u001b[90m━━━━━━━━━━━━━━━━━━━━━━━━━━━━━━━━━━━━━━━━\u001b[0m \u001b[32m12.8/12.8 MB\u001b[0m \u001b[31m42.3 MB/s\u001b[0m eta \u001b[36m0:00:00\u001b[0m\n",
            "\u001b[?25hInstalling collected packages: gurobipy, gurobipy-stubs\n",
            "Successfully installed gurobipy-10.0.1 gurobipy-stubs-2.0.0\n"
          ]
        }
      ],
      "source": [
        "#Groubiをインポート\n",
        "!pip install gurobipy-stubs\n",
        "from gurobipy import *"
      ]
    },
    {
      "cell_type": "markdown",
      "source": [
        "**モデルの作成**"
      ],
      "metadata": {
        "id": "AOc9_o9JKcLL"
      }
    },
    {
      "cell_type": "code",
      "source": [
        "#モデルに名前を付ける　今回はlo1\n",
        "model = Model(\"puzzle\")"
      ],
      "metadata": {
        "colab": {
          "base_uri": "https://localhost:8080/"
        },
        "id": "KBwxRnQhG8cV",
        "outputId": "d127a7e2-fb88-41a4-fb34-487f27148949"
      },
      "execution_count": 2,
      "outputs": [
        {
          "output_type": "stream",
          "name": "stdout",
          "text": [
            "Restricted license - for non-production use only - expires 2024-10-28\n"
          ]
        }
      ]
    },
    {
      "cell_type": "markdown",
      "source": [
        "**変数の定義**"
      ],
      "metadata": {
        "id": "t5rcSQL2KNNj"
      }
    },
    {
      "cell_type": "code",
      "source": [
        "#変数を定義する　モデルに付随する変数として定義している\n",
        "#addVarの中　vtype = \"I\"整数変数(integer variable)、\n",
        "x = model.addVar(vtype = \"I\")\n",
        "y = model.addVar(vtype = \"I\")\n",
        "z = model.addVar(vtype = \"I\")"
      ],
      "metadata": {
        "id": "xoTvKqgfIDxB"
      },
      "execution_count": 3,
      "outputs": []
    },
    {
      "cell_type": "markdown",
      "source": [
        "**モデルの更新**"
      ],
      "metadata": {
        "id": "fgFtQm5NKW1W"
      }
    },
    {
      "cell_type": "code",
      "source": [
        "#Groubiにモデルが変更されたことを伝えるメソッド（制約を追加する前には必ず行わなければならない）→モデルが変更されるたびにGroubi内のデータ構造を更新していると時間を要するために導入されたGroubiの重要な仕様\n",
        "model.update()"
      ],
      "metadata": {
        "id": "P5VoVLEeJrEW"
      },
      "execution_count": 4,
      "outputs": []
    },
    {
      "cell_type": "markdown",
      "source": [
        "**制約条件の追加**"
      ],
      "metadata": {
        "id": "xDnt-ADpKjG-"
      }
    },
    {
      "cell_type": "code",
      "source": [
        "#制約式をモデルに追加\n",
        "model.addConstr(x + y + z == 32)\n",
        "model.addConstr(2*x + 4*y + 8*z == 80)"
      ],
      "metadata": {
        "colab": {
          "base_uri": "https://localhost:8080/"
        },
        "id": "ukiUhyKyKhNW",
        "outputId": "a301727b-ba2f-4a4d-f9c6-aee061d0e169"
      },
      "execution_count": 5,
      "outputs": [
        {
          "output_type": "execute_result",
          "data": {
            "text/plain": [
              "<gurobi.Constr *Awaiting Model Update*>"
            ]
          },
          "metadata": {},
          "execution_count": 5
        }
      ]
    },
    {
      "cell_type": "markdown",
      "source": [
        "**目的関数の追加**"
      ],
      "metadata": {
        "id": "sPl9zWLbLeVy"
      }
    },
    {
      "cell_type": "code",
      "source": [
        "#目的関数の追加(最小化の場合はGRB.MINIMIZE)\n",
        "model.setObjective(y + z, GRB.MINIMIZE)"
      ],
      "metadata": {
        "id": "dbcxqhreLh8L"
      },
      "execution_count": 6,
      "outputs": []
    },
    {
      "cell_type": "markdown",
      "source": [
        "**最適化の実行**"
      ],
      "metadata": {
        "id": "7jUonFrQMGSA"
      }
    },
    {
      "cell_type": "code",
      "source": [
        "#最適化の実行 最適化の際には自動的にmodelのupdateを行う\n",
        "model.optimize()"
      ],
      "metadata": {
        "colab": {
          "base_uri": "https://localhost:8080/"
        },
        "id": "Ky-yan-yMFLz",
        "outputId": "3a5dd371-f7d2-49b5-836a-b8904270c957"
      },
      "execution_count": 7,
      "outputs": [
        {
          "output_type": "stream",
          "name": "stdout",
          "text": [
            "Gurobi Optimizer version 10.0.1 build v10.0.1rc0 (linux64)\n",
            "\n",
            "CPU model: AMD EPYC 7B12, instruction set [SSE2|AVX|AVX2]\n",
            "Thread count: 1 physical cores, 2 logical processors, using up to 2 threads\n",
            "\n",
            "Optimize a model with 2 rows, 3 columns and 6 nonzeros\n",
            "Model fingerprint: 0xb3e766db\n",
            "Variable types: 0 continuous, 3 integer (0 binary)\n",
            "Coefficient statistics:\n",
            "  Matrix range     [1e+00, 8e+00]\n",
            "  Objective range  [1e+00, 1e+00]\n",
            "  Bounds range     [0e+00, 0e+00]\n",
            "  RHS range        [3e+01, 8e+01]\n",
            "Presolve removed 2 rows and 3 columns\n",
            "Presolve time: 0.00s\n",
            "Presolve: All rows and columns removed\n",
            "\n",
            "Explored 0 nodes (0 simplex iterations) in 0.01 seconds (0.00 work units)\n",
            "Thread count was 1 (of 2 available processors)\n",
            "\n",
            "Solution count 1: 4 \n",
            "\n",
            "Optimal solution found (tolerance 1.00e-04)\n",
            "Best objective 4.000000000000e+00, best bound 4.000000000000e+00, gap 0.0000%\n"
          ]
        }
      ]
    },
    {
      "cell_type": "markdown",
      "source": [
        "**目的関数値と最適解の出力**"
      ],
      "metadata": {
        "id": "ImDVUnUjM847"
      }
    },
    {
      "cell_type": "code",
      "source": [
        "#最適化された目的関数の値\n",
        "print(\"Opt. Value=\", model.ObjVal)\n",
        "#最適解\n",
        "#for v in model.getVars():\n",
        "print(\"(x, y, z) = \",x.X, y.X, z.X)"
      ],
      "metadata": {
        "colab": {
          "base_uri": "https://localhost:8080/"
        },
        "id": "nyb58Y8YMkjf",
        "outputId": "7c20e64d-9107-4500-fbed-6bb95afea51d"
      },
      "execution_count": 12,
      "outputs": [
        {
          "output_type": "stream",
          "name": "stdout",
          "text": [
            "Opt. Value= 4.0\n",
            "(x, y, z) =  28.0 2.0 2.0\n"
          ]
        }
      ]
    },
    {
      "cell_type": "code",
      "source": [],
      "metadata": {
        "id": "sxTlxuryNaWF"
      },
      "execution_count": null,
      "outputs": []
    }
  ]
}
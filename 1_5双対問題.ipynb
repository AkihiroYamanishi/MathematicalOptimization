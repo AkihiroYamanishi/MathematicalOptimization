{
  "nbformat": 4,
  "nbformat_minor": 0,
  "metadata": {
    "colab": {
      "provenance": [],
      "authorship_tag": "ABX9TyOCzjZr/XreLBuwZdLFU90h",
      "include_colab_link": true
    },
    "kernelspec": {
      "name": "python3",
      "display_name": "Python 3"
    },
    "language_info": {
      "name": "python"
    }
  },
  "cells": [
    {
      "cell_type": "markdown",
      "metadata": {
        "id": "view-in-github",
        "colab_type": "text"
      },
      "source": [
        "<a href=\"https://colab.research.google.com/github/AkihiroYamanishi/MathematicalOptimization/blob/main/1_5%E5%8F%8C%E5%AF%BE%E5%95%8F%E9%A1%8C.ipynb\" target=\"_parent\"><img src=\"https://colab.research.google.com/assets/colab-badge.svg\" alt=\"Open In Colab\"/></a>"
      ]
    },
    {
      "cell_type": "code",
      "execution_count": 1,
      "metadata": {
        "colab": {
          "base_uri": "https://localhost:8080/"
        },
        "id": "3r2C8CPtG3gj",
        "outputId": "ba839d99-5ca2-41e3-c88c-861d4503ead7"
      },
      "outputs": [
        {
          "output_type": "stream",
          "name": "stdout",
          "text": [
            "Looking in indexes: https://pypi.org/simple, https://us-python.pkg.dev/colab-wheels/public/simple/\n",
            "Collecting gurobipy-stubs\n",
            "  Downloading gurobipy_stubs-2.0.0-py3-none-any.whl (14 kB)\n",
            "Collecting gurobipy==10.*\n",
            "  Downloading gurobipy-10.0.1-cp38-cp38-manylinux2014_x86_64.whl (12.8 MB)\n",
            "\u001b[2K     \u001b[90m━━━━━━━━━━━━━━━━━━━━━━━━━━━━━━━━━━━━━━━━\u001b[0m \u001b[32m12.8/12.8 MB\u001b[0m \u001b[31m29.6 MB/s\u001b[0m eta \u001b[36m0:00:00\u001b[0m\n",
            "\u001b[?25hInstalling collected packages: gurobipy, gurobipy-stubs\n",
            "Successfully installed gurobipy-10.0.1 gurobipy-stubs-2.0.0\n"
          ]
        }
      ],
      "source": [
        "#Groubiをインポート\n",
        "!pip install gurobipy-stubs\n",
        "from gurobipy import *"
      ]
    },
    {
      "cell_type": "markdown",
      "source": [
        "**問題の設定**"
      ],
      "metadata": {
        "id": "F1pEM5mtF5hW"
      }
    },
    {
      "cell_type": "code",
      "source": [
        "#d：需要量\n",
        "d = {1:80, 2:270, 3:250, 4:160, 5:180}\n",
        "#M：容量\n",
        "M = {1:500, 2:500, 3:500}\n",
        "#I：顧客の番号のリスト\n",
        "I = [1, 2, 3, 4, 5]\n",
        "#J：工場の番号リスト\n",
        "J = [1, 2, 3]"
      ],
      "metadata": {
        "id": "iwhFo_XKF46n"
      },
      "execution_count": 2,
      "outputs": []
    },
    {
      "cell_type": "markdown",
      "source": [
        "上記の別の書き方（より記述が少なく済む）→Groubiの記載方法"
      ],
      "metadata": {
        "id": "VdQUco1bG0ow"
      }
    },
    {
      "cell_type": "code",
      "source": [
        "I,d = multidict({1:80, 2:270, 3:250, 4:160, 5:180})\n",
        "J, M = multidict({1:500, 2:500, 3:500})"
      ],
      "metadata": {
        "id": "A6Lb0F0FGzqV"
      },
      "execution_count": 3,
      "outputs": []
    },
    {
      "cell_type": "code",
      "source": [
        "c = {(1,1):4, (1,2):6, (1,3):9, (2,1):5, (2,2):4, (2,3):7, (3,1):6, (3,2):3, (3,3):4, (4,1):8, (4,2):5, (4,3):3, (5,1):10, (5,2):8, (5,3):4,}  "
      ],
      "metadata": {
        "id": "QfQdeo2MHVWA"
      },
      "execution_count": 4,
      "outputs": []
    },
    {
      "cell_type": "markdown",
      "source": [
        "**モデルの作成**"
      ],
      "metadata": {
        "id": "AOc9_o9JKcLL"
      }
    },
    {
      "cell_type": "code",
      "source": [
        "#モデルに名前を付ける　今回はlo1\n",
        "model = Model(\"transportation\")"
      ],
      "metadata": {
        "colab": {
          "base_uri": "https://localhost:8080/"
        },
        "id": "KBwxRnQhG8cV",
        "outputId": "c8c6bb01-a284-4b1c-87e5-0a6e09e08aca"
      },
      "execution_count": 5,
      "outputs": [
        {
          "output_type": "stream",
          "name": "stdout",
          "text": [
            "Restricted license - for non-production use only - expires 2024-10-28\n"
          ]
        }
      ]
    },
    {
      "cell_type": "markdown",
      "source": [
        "**変数の定義**"
      ],
      "metadata": {
        "id": "t5rcSQL2KNNj"
      }
    },
    {
      "cell_type": "code",
      "source": [
        "#空の辞書xを作成\n",
        "x = {}\n",
        "#空の辞書xに変数のオブジェクトを保管していく\n",
        "for i in I:\n",
        "  for j in J:\n",
        "    x[i, j] = model.addVar(vtype = \"C\", name = \"x(%s,%s)\" %(i, j))"
      ],
      "metadata": {
        "id": "xoTvKqgfIDxB"
      },
      "execution_count": 6,
      "outputs": []
    },
    {
      "cell_type": "markdown",
      "source": [
        "**モデルの更新**"
      ],
      "metadata": {
        "id": "fgFtQm5NKW1W"
      }
    },
    {
      "cell_type": "code",
      "source": [
        "#Groubiにモデルが変更されたことを伝えるメソッド（制約を追加する前には必ず行わなければならない）→モデルが変更されるたびにGroubi内のデータ構造を更新していると時間を要するために導入されたGroubiの重要な仕様\n",
        "model.update()"
      ],
      "metadata": {
        "id": "P5VoVLEeJrEW"
      },
      "execution_count": 7,
      "outputs": []
    },
    {
      "cell_type": "markdown",
      "source": [
        "**制約条件の追加**"
      ],
      "metadata": {
        "id": "xDnt-ADpKjG-"
      }
    },
    {
      "cell_type": "code",
      "source": [
        "#制約条件をモデルに追加\n",
        "for i in I:\n",
        "  model.addConstr(quicksum(x[i, j] for j in J)==d[i], name=\"Demand(%s)\" % i)"
      ],
      "metadata": {
        "id": "ukiUhyKyKhNW"
      },
      "execution_count": 8,
      "outputs": []
    },
    {
      "cell_type": "code",
      "source": [
        "for j in J:\n",
        "  model.addConstr(quicksum(x[i, j] for i in I)<=M[j], name=\"Capacity(%s)\" % j)  "
      ],
      "metadata": {
        "id": "bLFH0cywKTuC"
      },
      "execution_count": 9,
      "outputs": []
    },
    {
      "cell_type": "markdown",
      "source": [
        "**目的関数の追加**"
      ],
      "metadata": {
        "id": "sPl9zWLbLeVy"
      }
    },
    {
      "cell_type": "code",
      "source": [
        "#目的関数の追加(最小化の場合はGRB.MINIMIZE)\n",
        "model.setObjective(quicksum(c[i,j]*x[i,j] for (i,j) in x), GRB.MINIMIZE)"
      ],
      "metadata": {
        "id": "dbcxqhreLh8L"
      },
      "execution_count": 10,
      "outputs": []
    },
    {
      "cell_type": "markdown",
      "source": [
        "**最適化の実行**"
      ],
      "metadata": {
        "id": "7jUonFrQMGSA"
      }
    },
    {
      "cell_type": "code",
      "source": [
        "model.optimize()"
      ],
      "metadata": {
        "colab": {
          "base_uri": "https://localhost:8080/"
        },
        "id": "ptJK2wDYWQmv",
        "outputId": "edcecc89-561c-4327-ed63-c422d3b75ed3"
      },
      "execution_count": 11,
      "outputs": [
        {
          "output_type": "stream",
          "name": "stdout",
          "text": [
            "Gurobi Optimizer version 10.0.1 build v10.0.1rc0 (linux64)\n",
            "\n",
            "CPU model: Intel(R) Xeon(R) CPU @ 2.20GHz, instruction set [SSE2|AVX|AVX2]\n",
            "Thread count: 1 physical cores, 2 logical processors, using up to 2 threads\n",
            "\n",
            "Optimize a model with 8 rows, 15 columns and 30 nonzeros\n",
            "Model fingerprint: 0xa225ad1d\n",
            "Coefficient statistics:\n",
            "  Matrix range     [1e+00, 1e+00]\n",
            "  Objective range  [3e+00, 1e+01]\n",
            "  Bounds range     [0e+00, 0e+00]\n",
            "  RHS range        [8e+01, 5e+02]\n",
            "Presolve time: 0.02s\n",
            "Presolved: 8 rows, 15 columns, 30 nonzeros\n",
            "\n",
            "Iteration    Objective       Primal Inf.    Dual Inf.      Time\n",
            "       0    3.3500000e+03   2.000000e+01   0.000000e+00      0s\n",
            "       1    3.3700000e+03   0.000000e+00   0.000000e+00      0s\n",
            "\n",
            "Solved in 1 iterations and 0.04 seconds (0.00 work units)\n",
            "Optimal objective  3.370000000e+03\n"
          ]
        }
      ]
    },
    {
      "cell_type": "markdown",
      "source": [
        "**目的関数値と最適解の出力**"
      ],
      "metadata": {
        "id": "ImDVUnUjM847"
      }
    },
    {
      "cell_type": "code",
      "source": [
        "#最適化の実行 最適化の際には自動的にmodelのupdateを行う\n",
        "print(\"Optimal value:\", model.ObjVal)\n",
        "#\n",
        "EPS = 1.e-6\n",
        "for (i,j) in x:\n",
        "  if x[i,j].X > EPS:\n",
        "    print(\"sending quality %10s from factory %3s to customer %3s\" %(x[i,j].X, j, i))"
      ],
      "metadata": {
        "colab": {
          "base_uri": "https://localhost:8080/"
        },
        "id": "Ky-yan-yMFLz",
        "outputId": "c16c8e57-d7f9-494d-aa40-8f28587842f1"
      },
      "execution_count": 12,
      "outputs": [
        {
          "output_type": "stream",
          "name": "stdout",
          "text": [
            "Optimal value: 3370.0\n",
            "sending quality       80.0 from factory   1 to customer   1\n",
            "sending quality       20.0 from factory   1 to customer   2\n",
            "sending quality      250.0 from factory   2 to customer   2\n",
            "sending quality      250.0 from factory   2 to customer   3\n",
            "sending quality      160.0 from factory   3 to customer   4\n",
            "sending quality      180.0 from factory   3 to customer   5\n"
          ]
        }
      ]
    },
    {
      "cell_type": "markdown",
      "source": [
        "以上、1.4のコードと全く同じ\n",
        "以下、双対問題固有のコード"
      ],
      "metadata": {
        "id": "yfHgi8qLNLxi"
      }
    },
    {
      "cell_type": "code",
      "source": [
        "print(\"Const.Name: Slack, Dual\")\n",
        "for c in model.getConstrs():\n",
        "  print(\"%s: %s , %s\" %(c.ConstrName, c.Slack, c.Pi))"
      ],
      "metadata": {
        "colab": {
          "base_uri": "https://localhost:8080/"
        },
        "id": "0sNUu-lKNKUJ",
        "outputId": "96b30845-d196-40e6-8216-59d46f130348"
      },
      "execution_count": 13,
      "outputs": [
        {
          "output_type": "stream",
          "name": "stdout",
          "text": [
            "Const.NAme: Slack, Dual\n",
            "Demand(1): 0.0 , 4.0\n",
            "Demand(2): 0.0 , 5.0\n",
            "Demand(3): 0.0 , 4.0\n",
            "Demand(4): 0.0 , 3.0\n",
            "Demand(5): 0.0 , 4.0\n",
            "Capacity(1): 400.0 , 0.0\n",
            "Capacity(2): 0.0 , -1.0\n",
            "Capacity(3): 160.0 , 0.0\n"
          ]
        }
      ]
    },
    {
      "cell_type": "code",
      "source": [],
      "metadata": {
        "id": "sQwh0hzvN2N3"
      },
      "execution_count": null,
      "outputs": []
    }
  ]
}
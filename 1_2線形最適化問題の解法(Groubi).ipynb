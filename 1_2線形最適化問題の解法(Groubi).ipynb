{
  "nbformat": 4,
  "nbformat_minor": 0,
  "metadata": {
    "colab": {
      "provenance": [],
      "authorship_tag": "ABX9TyM+Sq9c7RjyPqRUVvD5ptwJ",
      "include_colab_link": true
    },
    "kernelspec": {
      "name": "python3",
      "display_name": "Python 3"
    },
    "language_info": {
      "name": "python"
    }
  },
  "cells": [
    {
      "cell_type": "markdown",
      "metadata": {
        "id": "view-in-github",
        "colab_type": "text"
      },
      "source": [
        "<a href=\"https://colab.research.google.com/github/AkihiroYamanishi/MathematicalOptimization/blob/main/1_2%E7%B7%9A%E5%BD%A2%E6%9C%80%E9%81%A9%E5%8C%96%E5%95%8F%E9%A1%8C%E3%81%AE%E8%A7%A3%E6%B3%95(Groubi).ipynb\" target=\"_parent\"><img src=\"https://colab.research.google.com/assets/colab-badge.svg\" alt=\"Open In Colab\"/></a>"
      ]
    },
    {
      "cell_type": "code",
      "execution_count": null,
      "metadata": {
        "colab": {
          "base_uri": "https://localhost:8080/"
        },
        "id": "3r2C8CPtG3gj",
        "outputId": "cf18b6d0-038e-48f5-baa5-09ea0a26e441"
      },
      "outputs": [
        {
          "output_type": "stream",
          "name": "stdout",
          "text": [
            "Looking in indexes: https://pypi.org/simple, https://us-python.pkg.dev/colab-wheels/public/simple/\n",
            "Requirement already satisfied: pip in /usr/local/lib/python3.8/dist-packages (22.0.4)\n",
            "Collecting install\n",
            "  Downloading install-1.3.5-py3-none-any.whl (3.2 kB)\n",
            "Collecting gurobipy-stubs\n",
            "  Downloading gurobipy_stubs-2.0.0-py3-none-any.whl (14 kB)\n",
            "Collecting gurobipy==10.*\n",
            "  Downloading gurobipy-10.0.1-cp38-cp38-manylinux2014_x86_64.whl (12.8 MB)\n",
            "\u001b[2K     \u001b[90m━━━━━━━━━━━━━━━━━━━━━━━━━━━━━━━━━━━━━━━━\u001b[0m \u001b[32m12.8/12.8 MB\u001b[0m \u001b[31m77.7 MB/s\u001b[0m eta \u001b[36m0:00:00\u001b[0m\n",
            "\u001b[?25hInstalling collected packages: gurobipy, install, gurobipy-stubs\n",
            "Successfully installed gurobipy-10.0.1 gurobipy-stubs-2.0.0 install-1.3.5\n"
          ]
        }
      ],
      "source": [
        "#Groubiをインポート\n",
        "!pip install gurobipy-stubs\n",
        "from gurobipy import *"
      ]
    },
    {
      "cell_type": "markdown",
      "source": [
        "**モデルの作成**"
      ],
      "metadata": {
        "id": "AOc9_o9JKcLL"
      }
    },
    {
      "cell_type": "code",
      "source": [
        "#モデルに名前を付ける　今回はlo1\n",
        "model = Model(\"lo1\")"
      ],
      "metadata": {
        "colab": {
          "base_uri": "https://localhost:8080/"
        },
        "id": "KBwxRnQhG8cV",
        "outputId": "6e407e57-8438-41f8-c34f-2e9ea15e88c5"
      },
      "execution_count": null,
      "outputs": [
        {
          "output_type": "stream",
          "name": "stdout",
          "text": [
            "Restricted license - for non-production use only - expires 2024-10-28\n"
          ]
        }
      ]
    },
    {
      "cell_type": "markdown",
      "source": [
        "**変数の定義**"
      ],
      "metadata": {
        "id": "t5rcSQL2KNNj"
      }
    },
    {
      "cell_type": "code",
      "source": [
        "#変数を定義する　モデルに付随する変数として定義している\n",
        "#addVarの中　vtype = \"C\"連続変数(continuau variable)、\n",
        "x1 = model.addVar(vtype = \"C\", name = \"x1\")\n",
        "#\"C\"はデフォルトなので省略もできる\n",
        "x2 = model.addVar(name = \"x2\")\n",
        "#ub→上限のこと 例では上限が30になる（x3<=30を表現している）\n",
        "x3 = model.addVar(ub = 30, name=\"x3\")"
      ],
      "metadata": {
        "id": "xoTvKqgfIDxB"
      },
      "execution_count": null,
      "outputs": []
    },
    {
      "cell_type": "markdown",
      "source": [
        "**モデルの更新**"
      ],
      "metadata": {
        "id": "fgFtQm5NKW1W"
      }
    },
    {
      "cell_type": "code",
      "source": [
        "#Groubiにモデルが変更されたことを伝えるメソッド（制約を追加する前には必ず行わなければならない）→モデルが変更されるたびにGroubi内のデータ構造を更新していると時間を要するために導入されたGroubiの重要な仕様\n",
        "model.update()"
      ],
      "metadata": {
        "id": "P5VoVLEeJrEW"
      },
      "execution_count": null,
      "outputs": []
    },
    {
      "cell_type": "markdown",
      "source": [
        "**制約条件の追加**"
      ],
      "metadata": {
        "id": "xDnt-ADpKjG-"
      }
    },
    {
      "cell_type": "code",
      "source": [
        "#制約式をモデルに追加\n",
        "model.addConstr(2*x1 + x2 + x3 <= 60)\n",
        "model.addConstr(x1 + 2 * x2 + x3 <= 60)"
      ],
      "metadata": {
        "colab": {
          "base_uri": "https://localhost:8080/"
        },
        "id": "ukiUhyKyKhNW",
        "outputId": "00bb891f-6636-4396-fdf9-d0c8262d53d4"
      },
      "execution_count": null,
      "outputs": [
        {
          "output_type": "execute_result",
          "data": {
            "text/plain": [
              "<gurobi.Constr *Awaiting Model Update*>"
            ]
          },
          "metadata": {},
          "execution_count": 9
        }
      ]
    },
    {
      "cell_type": "markdown",
      "source": [
        "**目的関数の追加**"
      ],
      "metadata": {
        "id": "sPl9zWLbLeVy"
      }
    },
    {
      "cell_type": "code",
      "source": [
        "#目的関数の追加(最小化の場合はGRB.MINIMIZE)\n",
        "model.setObjective(15*x1 + 18 * x2 + 20 * x3, GRB.MAXIMIZE)"
      ],
      "metadata": {
        "id": "dbcxqhreLh8L"
      },
      "execution_count": null,
      "outputs": []
    },
    {
      "cell_type": "markdown",
      "source": [
        "**最適化の実行**"
      ],
      "metadata": {
        "id": "7jUonFrQMGSA"
      }
    },
    {
      "cell_type": "code",
      "source": [
        "#最適化の実行 最適化の際には自動的にmodelのupdateを行う\n",
        "model.optimize()"
      ],
      "metadata": {
        "colab": {
          "base_uri": "https://localhost:8080/"
        },
        "id": "Ky-yan-yMFLz",
        "outputId": "ef547e16-b7ec-4473-94f8-1bdf1f513e34"
      },
      "execution_count": null,
      "outputs": [
        {
          "output_type": "stream",
          "name": "stdout",
          "text": [
            "Gurobi Optimizer version 10.0.1 build v10.0.1rc0 (linux64)\n",
            "\n",
            "CPU model: Intel(R) Xeon(R) CPU @ 2.20GHz, instruction set [SSE2|AVX|AVX2]\n",
            "Thread count: 1 physical cores, 2 logical processors, using up to 2 threads\n",
            "\n",
            "Optimize a model with 2 rows, 3 columns and 6 nonzeros\n",
            "Model fingerprint: 0xb48b5031\n",
            "Coefficient statistics:\n",
            "  Matrix range     [1e+00, 2e+00]\n",
            "  Objective range  [2e+01, 2e+01]\n",
            "  Bounds range     [3e+01, 3e+01]\n",
            "  RHS range        [6e+01, 6e+01]\n",
            "Presolve time: 0.01s\n",
            "Presolved: 2 rows, 3 columns, 6 nonzeros\n",
            "\n",
            "Iteration    Objective       Primal Inf.    Dual Inf.      Time\n",
            "       0    3.3000000e+31   3.000000e+30   3.300000e+01      0s\n",
            "       3    9.3000000e+02   0.000000e+00   0.000000e+00      0s\n",
            "\n",
            "Solved in 3 iterations and 0.02 seconds (0.00 work units)\n",
            "Optimal objective  9.300000000e+02\n"
          ]
        }
      ]
    },
    {
      "cell_type": "markdown",
      "source": [
        "**目的関数値と最適解の出力**"
      ],
      "metadata": {
        "id": "ImDVUnUjM847"
      }
    },
    {
      "cell_type": "code",
      "source": [
        "#最適化された目的関数の値\n",
        "print(\"Opt. Value=\", model.ObjVal)\n",
        "#最適解\n",
        "for v in model.getVars():\n",
        "  print(v.VarName, v.X)"
      ],
      "metadata": {
        "colab": {
          "base_uri": "https://localhost:8080/"
        },
        "id": "nyb58Y8YMkjf",
        "outputId": "7a01a17c-4c9b-4217-b8b0-6ed94b42ba30"
      },
      "execution_count": null,
      "outputs": [
        {
          "output_type": "stream",
          "name": "stdout",
          "text": [
            "Opt. Value= 930.0\n",
            "x1 10.0\n",
            "x2 10.0\n",
            "x3 30.0\n"
          ]
        }
      ]
    },
    {
      "cell_type": "code",
      "source": [],
      "metadata": {
        "id": "sxTlxuryNaWF"
      },
      "execution_count": null,
      "outputs": []
    }
  ]
}